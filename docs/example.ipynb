{
 "cells": [
  {
   "cell_type": "markdown",
   "metadata": {},
   "source": [
    "# Unit Conversions\n",
    "In this tutorial we will give an example of how to deal with magnetic units in python. Including converting between CGS and SI units.\n",
    "\n",
    "To do this, we use `mammosunits` which makes use of `astropy.units` under the hood, a package aimed at the astrophysics community for its unit converting functionality."
   ]
  },
  {
   "cell_type": "code",
   "execution_count": 1,
   "metadata": {},
   "outputs": [],
   "source": [
    "import mammos_units as u"
   ]
  },
  {
   "cell_type": "markdown",
   "metadata": {},
   "source": [
    "In mammosunits we will deal with [Quantity objects](https://docs.astropy.org/en/stable/units/quantity.html#quantity): the combination of a value and a unit. The most convenient way to create a Quantity is to multiply or divide a value by one of the built-in units. It works with scalars, sequences, and `numpy` arrays."
   ]
  },
  {
   "cell_type": "code",
   "execution_count": 2,
   "metadata": {},
   "outputs": [
    {
     "data": {
      "text/latex": [
       "$1 \\; \\mathrm{m}$"
      ],
      "text/plain": [
       "<Quantity 1. m>"
      ]
     },
     "execution_count": 2,
     "metadata": {},
     "output_type": "execute_result"
    }
   ],
   "source": [
    "length = 1 * u.meter\n",
    "length"
   ]
  },
  {
   "cell_type": "markdown",
   "metadata": {},
   "source": [
    "A quantity is composed of a value and a unit"
   ]
  },
  {
   "cell_type": "code",
   "execution_count": 3,
   "metadata": {},
   "outputs": [
    {
     "name": "stdout",
     "output_type": "stream",
     "text": [
      "1.0\n",
      "m\n"
     ]
    }
   ],
   "source": [
    "print(length.value)\n",
    "print(length.unit)"
   ]
  },
  {
   "cell_type": "markdown",
   "metadata": {},
   "source": [
    "Most units in mammosunits support adding prefix to the unit e.g. k for kilo."
   ]
  },
  {
   "cell_type": "code",
   "execution_count": 4,
   "metadata": {},
   "outputs": [
    {
     "data": {
      "text/latex": [
       "$1 \\; \\mathrm{km}$"
      ],
      "text/plain": [
       "<Quantity 1. km>"
      ]
     },
     "execution_count": 4,
     "metadata": {},
     "output_type": "execute_result"
    }
   ],
   "source": [
    "length = 1 * u.km\n",
    "length"
   ]
  },
  {
   "cell_type": "markdown",
   "metadata": {},
   "source": [
    "You can perform operations on quantities and units remain and combine through the set of operations."
   ]
  },
  {
   "cell_type": "code",
   "execution_count": 5,
   "metadata": {},
   "outputs": [
    {
     "data": {
      "text/latex": [
       "$0.5 \\; \\mathrm{\\frac{km}{s}}$"
      ],
      "text/plain": [
       "<Quantity 0.5 km / s>"
      ]
     },
     "execution_count": 5,
     "metadata": {},
     "output_type": "execute_result"
    }
   ],
   "source": [
    "time = 2 * u.s\n",
    "\n",
    "velocity = length/time\n",
    "velocity"
   ]
  },
  {
   "cell_type": "markdown",
   "metadata": {},
   "source": [
    "It is simple to convert between CGS and SI units by using the `.cgs` and `.si` properties."
   ]
  },
  {
   "cell_type": "code",
   "execution_count": 6,
   "metadata": {},
   "outputs": [
    {
     "data": {
      "text/latex": [
       "$500 \\; \\mathrm{\\frac{m}{s}}$"
      ],
      "text/plain": [
       "<Quantity 500. m / s>"
      ]
     },
     "execution_count": 6,
     "metadata": {},
     "output_type": "execute_result"
    }
   ],
   "source": [
    "velocity.si"
   ]
  },
  {
   "cell_type": "code",
   "execution_count": 7,
   "metadata": {},
   "outputs": [
    {
     "data": {
      "text/latex": [
       "$50000 \\; \\mathrm{\\frac{cm}{s}}$"
      ],
      "text/plain": [
       "<Quantity 50000. cm / s>"
      ]
     },
     "execution_count": 7,
     "metadata": {},
     "output_type": "execute_result"
    }
   ],
   "source": [
    "velocity.cgs"
   ]
  },
  {
   "cell_type": "markdown",
   "metadata": {},
   "source": [
    "It is also possible to specify explicitly which units you wish to convert to"
   ]
  },
  {
   "cell_type": "code",
   "execution_count": 8,
   "metadata": {},
   "outputs": [
    {
     "data": {
      "text/latex": [
       "$5 \\times 10^{17} \\; \\mathrm{\\frac{\\mu m}{Gs}}$"
      ],
      "text/plain": [
       "<Quantity 5.e+17 um / Gs>"
      ]
     },
     "execution_count": 8,
     "metadata": {},
     "output_type": "execute_result"
    }
   ],
   "source": [
    "velocity.to(u.um/u.Gs)"
   ]
  },
  {
   "cell_type": "markdown",
   "metadata": {},
   "source": [
    "As `mammosunits` aslo work with `numpy` arrays."
   ]
  },
  {
   "cell_type": "code",
   "execution_count": 9,
   "metadata": {},
   "outputs": [
    {
     "data": {
      "text/latex": [
       "$[1,~2,~3] \\; \\mathrm{m}$"
      ],
      "text/plain": [
       "<Quantity [1., 2., 3.] m>"
      ]
     },
     "metadata": {},
     "output_type": "display_data"
    },
    {
     "data": {
      "text/latex": [
       "$[[1,~2,~3],~\n",
       " [4,~5,~6],~\n",
       " [7,~8,~9]] \\; \\mathrm{cm}$"
      ],
      "text/plain": [
       "<Quantity [[1., 2., 3.],\n",
       "           [4., 5., 6.],\n",
       "           [7., 8., 9.]] cm>"
      ]
     },
     "metadata": {},
     "output_type": "display_data"
    }
   ],
   "source": [
    "import numpy as np\n",
    "\n",
    "a = np.array([1,2,3]) * u.m\n",
    "b = np.array([[1,2,3],[4,5,6],[7,8,9]]) * u.cm\n",
    "\n",
    "display(a)\n",
    "display(b)\n"
   ]
  },
  {
   "cell_type": "markdown",
   "metadata": {},
   "source": [
    "They keep the units even through complex operations."
   ]
  },
  {
   "cell_type": "code",
   "execution_count": 10,
   "metadata": {},
   "outputs": [
    {
     "data": {
      "text/latex": [
       "$[0.3,~0.36,~0.42] \\; \\mathrm{m^{2}}$"
      ],
      "text/plain": [
       "<Quantity [0.3 , 0.36, 0.42] m2>"
      ]
     },
     "execution_count": 10,
     "metadata": {},
     "output_type": "execute_result"
    }
   ],
   "source": [
    "out = np.einsum('i,ij->j',a,b)\n",
    "out.si"
   ]
  },
  {
   "cell_type": "markdown",
   "metadata": {},
   "source": [
    "## Magnetic units\n",
    "\n",
    "Here we show how to use magnetic units with astropy. Often in the magnetism community, a mix of CGS and SI units are used. Here, we show a convenient way of converting between the two.\n",
    "\n",
    "| Quantity Symbol | SI Units | cgs Units |\n",
    "|-----------------|----------|-----------|\n",
    "| Length $(x)$ | $10^{-2} \\, \\text{m}$ | $1 \\, \\text{cm}$ |\n",
    "| Mass $(m)$ | $10^{-3} \\, \\text{kg}$ | $1 \\, \\text{g}$ |\n",
    "| Force $(F)$ | $10^{-5} \\, \\text{N}$ | $1 \\, \\text{dyne}$ |\n",
    "| Energy $(E)$ | $10^{-7} \\, \\text{J}$ | $1 \\, \\text{erg}$ |\n",
    "| Magnetic Induction $(B)$ | $10^{-4} \\, \\text{T}$ | $1 \\, \\text{G}$ |\n",
    "| Magnetic Field Strength $(H)$ | $\\frac{10^{3}}{4\\pi} \\, \\text{Am}^{-1}$ | $1 \\, \\text{Oe}$ |\n",
    "| Magnetic Moment $(\\mu)$ | $10^{-3} \\, \\text{JT}^{-1}$ or $\\text{Am}^2$ | $1 \\, \\text{erg G}^{-1}$ or emu |\n",
    "| Magnetization $(M)$ | $10^3 \\, \\text{Am}^{-1}$ or $\\text{JT}^{-1} \\, \\text{m}^{-3}$ | $1 \\, \\text{Oe}$ or emu cm $^{-3}$ |\n",
    "| Magnetic Susceptibility $(\\chi)$ | $4\\pi$ (dimensionless) | $1 \\, \\text{emu cm}^{-3} \\, \\text{Oe}^{-1}$ |\n",
    "| Molar Susceptibility $(\\chi_m)$ | $4\\pi \\times 10^{-6} \\, \\text{m}^3 \\, \\text{mol}^{-1}$ | $1 \\, \\text{emu mol}^{-1} \\, \\text{Oe}^{-1}$ |\n",
    "| Mass Susceptibility $(\\chi_g)$ | $4\\pi \\times 10^{-3} \\, \\text{m}^3 \\, \\text{kg}^{-1}$ | $1 \\, \\text{emu g}^{-1} \\, \\text{Oe}^{-1}$ |\n",
    "| Magnetic Flux $(\\phi)$ | $10^{-8} \\, \\text{Tm}^2$ or $\\text{Wb}$ | $1 \\, \\text{G cm}^2$ or $\\text{Mx}$ |\n",
    "| Demagnetization Factor (N) | $0 < N < 1$ | $0 < N < 4\\pi$ |\n"
   ]
  },
  {
   "cell_type": "code",
   "execution_count": 11,
   "metadata": {},
   "outputs": [
    {
     "name": "stdout",
     "output_type": "stream",
     "text": [
      "| Quantity               | cgs Unit       | Converted SI Unit\n",
      "|------------------------|----------------|--------------------\n",
      "| Length                 | 1 cm           | 0.01 m\n",
      "| Mass                   | 1 g            | 0.001 kg\n",
      "| Force                  | 1 dyne         | 1e-05 N\n",
      "| Energy                 | 1 erg          | 1e-07 J\n",
      "| Magnetic Induction     | 1 G            | 0.0001 T\n",
      "| Magnetic Field Strength| 1 Oe           | 80 A / m\n",
      "| Magnetic Moment        | 1 erg G^-1     | 0.001 J / T\n",
      "| Magnetization          | 1 emu cm^-3    | 80 A / m\n",
      "| Magnetic Flux          | 1 Mx           | 1e-08 Wb\n"
     ]
    }
   ],
   "source": [
    "# Initialize quantities in cgs units\n",
    "length = 1 * u.cm\n",
    "mass = 1 * u.g\n",
    "force = 1 * u.dyn\n",
    "energy = 1 * u.erg\n",
    "magnetic_induction = 1 * u.G\n",
    "magnetic_field_strength = 1 * u.Oe\n",
    "magnetic_moment = 1 * u.erg * u.G**-1\n",
    "magnetization = 1 * u.Oe\n",
    "magnetic_flux = 1 * u.Mx\n",
    "\n",
    "# Print the results in a table format using conversions in the f-string\n",
    "print(\"| Quantity               | cgs Unit       | Converted SI Unit\")\n",
    "print(\"|------------------------|----------------|--------------------\")\n",
    "print(f\"| Length                 | 1 cm           | {length.to(u.m):.2g}\")\n",
    "print(f\"| Mass                   | 1 g            | {mass.to(u.kg):.2g}\")\n",
    "print(f\"| Force                  | 1 dyne         | {force.to(u.N):.2g}\")\n",
    "print(f\"| Energy                 | 1 erg          | {energy.to(u.J):.2g}\")\n",
    "print(f\"| Magnetic Induction     | 1 G            | {magnetic_induction.to(u.T):.2g}\")\n",
    "print(f\"| Magnetic Field Strength| 1 Oe           | {magnetic_field_strength.to(u.A/u.m):.2g}\")\n",
    "print(f\"| Magnetic Moment        | 1 erg G^-1     | {magnetic_moment.to(u.J * u.T**-1):.2g}\")\n",
    "print(f\"| Magnetization          | 1 emu cm^-3    | {magnetization.to(u.A/u.m):.2g}\")\n",
    "print(f\"| Magnetic Flux          | 1 Mx           | {magnetic_flux.to(u.Wb):.2g}\")"
   ]
  },
  {
   "cell_type": "markdown",
   "metadata": {},
   "source": [
    "There are multiple way for certian units to be written in mammosmag"
   ]
  },
  {
   "cell_type": "code",
   "execution_count": 12,
   "metadata": {},
   "outputs": [
    {
     "data": {
      "text/plain": [
       "True"
      ]
     },
     "execution_count": 12,
     "metadata": {},
     "output_type": "execute_result"
    }
   ],
   "source": [
    "u.G == u.Gauss == u.gauss"
   ]
  },
  {
   "cell_type": "markdown",
   "metadata": {},
   "source": [
    "Please refer to the [Astopy documentation](https://docs.astropy.org/en/stable/units/index.html) for details about how to write each unit"
   ]
  },
  {
   "cell_type": "markdown",
   "metadata": {},
   "source": [
    "## Equivalency\n",
    "The `mammosmag` also enables conversions of units with different equivalencies i.e. temperature and energy. To use this we can create a variable with the relevant units of temperature and use the `to` function to convert to the relevant units with the relevant equivalency.\n",
    "\n",
    "For example, if an exchange interaction has a temperature of 4.15 K we can calculate the equivalent energy in J."
   ]
  },
  {
   "cell_type": "code",
   "execution_count": 13,
   "metadata": {},
   "outputs": [
    {
     "data": {
      "text/latex": [
       "$5.7296934 \\times 10^{-23} \\; \\mathrm{J}$"
      ],
      "text/plain": [
       "<Quantity 5.72969335e-23 J>"
      ]
     },
     "execution_count": 13,
     "metadata": {},
     "output_type": "execute_result"
    }
   ],
   "source": [
    "t_k = 4.15 * u.K\n",
    "t_k.to(u.J, equivalencies=u.temperature_energy())"
   ]
  },
  {
   "cell_type": "markdown",
   "metadata": {},
   "source": [
    "We can also do this with magnetic units such as converting magnetic field between magnetic field strength $(\\mathbf{H})$ and magnetic flux density $(\\mathbf{B})$ using the relationship:\n",
    "\n",
    "$$\n",
    "\\mathbf{B} = \\mu_r \\mu_0 \\mathbf{H}.\n",
    "$$\n",
    "\n",
    "Where:\n",
    "- $\\mu_0$ is the vacuum permeability, a physical constant,\n",
    "- $\\mu_r$ is the relative permeability of the medium, a dimensionless quantity.\n",
    "\n",
    "Without this conversion we can see that these two quantities cannot be converted between each other."
   ]
  },
  {
   "cell_type": "code",
   "execution_count": 14,
   "metadata": {
    "tags": [
     "nbval-raises-exception"
    ]
   },
   "outputs": [
    {
     "ename": "UnitConversionError",
     "evalue": "'Oe' (magnetic field strength) and 'G' (magnetic flux density) are not convertible",
     "output_type": "error",
     "traceback": [
      "\u001b[0;31m---------------------------------------------------------------------------\u001b[0m",
      "\u001b[0;31mUnitConversionError\u001b[0m                       Traceback (most recent call last)",
      "Cell \u001b[0;32mIn[14], line 2\u001b[0m\n\u001b[1;32m      1\u001b[0m H \u001b[38;5;241m=\u001b[39m \u001b[38;5;241m1\u001b[39m \u001b[38;5;241m*\u001b[39m u\u001b[38;5;241m.\u001b[39mOe\n\u001b[0;32m----> 2\u001b[0m \u001b[43mH\u001b[49m\u001b[38;5;241;43m.\u001b[39;49m\u001b[43mto\u001b[49m\u001b[43m(\u001b[49m\u001b[43mu\u001b[49m\u001b[38;5;241;43m.\u001b[39;49m\u001b[43mG\u001b[49m\u001b[43m)\u001b[49m\n",
      "File \u001b[0;32m~/miniconda3/envs/mammosunits/lib/python3.12/site-packages/astropy/units/quantity.py:930\u001b[0m, in \u001b[0;36mQuantity.to\u001b[0;34m(self, unit, equivalencies, copy)\u001b[0m\n\u001b[1;32m    926\u001b[0m unit \u001b[38;5;241m=\u001b[39m Unit(unit)\n\u001b[1;32m    927\u001b[0m \u001b[38;5;28;01mif\u001b[39;00m copy:\n\u001b[1;32m    928\u001b[0m     \u001b[38;5;66;03m# Avoid using to_value to ensure that we make a copy. We also\u001b[39;00m\n\u001b[1;32m    929\u001b[0m     \u001b[38;5;66;03m# don't want to slow down this method (esp. the scalar case).\u001b[39;00m\n\u001b[0;32m--> 930\u001b[0m     value \u001b[38;5;241m=\u001b[39m \u001b[38;5;28;43mself\u001b[39;49m\u001b[38;5;241;43m.\u001b[39;49m\u001b[43m_to_value\u001b[49m\u001b[43m(\u001b[49m\u001b[43munit\u001b[49m\u001b[43m,\u001b[49m\u001b[43m \u001b[49m\u001b[43mequivalencies\u001b[49m\u001b[43m)\u001b[49m\n\u001b[1;32m    931\u001b[0m \u001b[38;5;28;01melse\u001b[39;00m:\n\u001b[1;32m    932\u001b[0m     \u001b[38;5;66;03m# to_value only copies if necessary\u001b[39;00m\n\u001b[1;32m    933\u001b[0m     value \u001b[38;5;241m=\u001b[39m \u001b[38;5;28mself\u001b[39m\u001b[38;5;241m.\u001b[39mto_value(unit, equivalencies)\n",
      "File \u001b[0;32m~/miniconda3/envs/mammosunits/lib/python3.12/site-packages/astropy/units/quantity.py:883\u001b[0m, in \u001b[0;36mQuantity._to_value\u001b[0;34m(self, unit, equivalencies)\u001b[0m\n\u001b[1;32m    880\u001b[0m     equivalencies \u001b[38;5;241m=\u001b[39m \u001b[38;5;28mself\u001b[39m\u001b[38;5;241m.\u001b[39m_equivalencies\n\u001b[1;32m    881\u001b[0m \u001b[38;5;28;01mif\u001b[39;00m \u001b[38;5;129;01mnot\u001b[39;00m \u001b[38;5;28mself\u001b[39m\u001b[38;5;241m.\u001b[39mdtype\u001b[38;5;241m.\u001b[39mnames \u001b[38;5;129;01mor\u001b[39;00m \u001b[38;5;28misinstance\u001b[39m(\u001b[38;5;28mself\u001b[39m\u001b[38;5;241m.\u001b[39munit, StructuredUnit):\n\u001b[1;32m    882\u001b[0m     \u001b[38;5;66;03m# Standard path, let unit to do work.\u001b[39;00m\n\u001b[0;32m--> 883\u001b[0m     \u001b[38;5;28;01mreturn\u001b[39;00m \u001b[38;5;28;43mself\u001b[39;49m\u001b[38;5;241;43m.\u001b[39;49m\u001b[43munit\u001b[49m\u001b[38;5;241;43m.\u001b[39;49m\u001b[43mto\u001b[49m\u001b[43m(\u001b[49m\n\u001b[1;32m    884\u001b[0m \u001b[43m        \u001b[49m\u001b[43munit\u001b[49m\u001b[43m,\u001b[49m\u001b[43m \u001b[49m\u001b[38;5;28;43mself\u001b[39;49m\u001b[38;5;241;43m.\u001b[39;49m\u001b[43mview\u001b[49m\u001b[43m(\u001b[49m\u001b[43mnp\u001b[49m\u001b[38;5;241;43m.\u001b[39;49m\u001b[43mndarray\u001b[49m\u001b[43m)\u001b[49m\u001b[43m,\u001b[49m\u001b[43m \u001b[49m\u001b[43mequivalencies\u001b[49m\u001b[38;5;241;43m=\u001b[39;49m\u001b[43mequivalencies\u001b[49m\n\u001b[1;32m    885\u001b[0m \u001b[43m    \u001b[49m\u001b[43m)\u001b[49m\n\u001b[1;32m    887\u001b[0m \u001b[38;5;28;01melse\u001b[39;00m:\n\u001b[1;32m    888\u001b[0m     \u001b[38;5;66;03m# The .to() method of a simple unit cannot convert a structured\u001b[39;00m\n\u001b[1;32m    889\u001b[0m     \u001b[38;5;66;03m# dtype, so we work around it, by recursing.\u001b[39;00m\n\u001b[1;32m    890\u001b[0m     \u001b[38;5;66;03m# TODO: deprecate this?\u001b[39;00m\n\u001b[1;32m    891\u001b[0m     \u001b[38;5;66;03m# Convert simple to Structured on initialization?\u001b[39;00m\n\u001b[1;32m    892\u001b[0m     result \u001b[38;5;241m=\u001b[39m np\u001b[38;5;241m.\u001b[39mempty_like(\u001b[38;5;28mself\u001b[39m\u001b[38;5;241m.\u001b[39mview(np\u001b[38;5;241m.\u001b[39mndarray))\n",
      "File \u001b[0;32m~/miniconda3/envs/mammosunits/lib/python3.12/site-packages/astropy/units/core.py:1204\u001b[0m, in \u001b[0;36mUnitBase.to\u001b[0;34m(self, other, value, equivalencies)\u001b[0m\n\u001b[1;32m   1202\u001b[0m     \u001b[38;5;28;01mreturn\u001b[39;00m UNITY\n\u001b[1;32m   1203\u001b[0m \u001b[38;5;28;01melse\u001b[39;00m:\n\u001b[0;32m-> 1204\u001b[0m     \u001b[38;5;28;01mreturn\u001b[39;00m \u001b[38;5;28;43mself\u001b[39;49m\u001b[38;5;241;43m.\u001b[39;49m\u001b[43mget_converter\u001b[49m\u001b[43m(\u001b[49m\u001b[43mUnit\u001b[49m\u001b[43m(\u001b[49m\u001b[43mother\u001b[49m\u001b[43m)\u001b[49m\u001b[43m,\u001b[49m\u001b[43m \u001b[49m\u001b[43mequivalencies\u001b[49m\u001b[43m)\u001b[49m(value)\n",
      "File \u001b[0;32m~/miniconda3/envs/mammosunits/lib/python3.12/site-packages/astropy/units/core.py:1133\u001b[0m, in \u001b[0;36mUnitBase.get_converter\u001b[0;34m(self, other, equivalencies)\u001b[0m\n\u001b[1;32m   1130\u001b[0m             \u001b[38;5;28;01melse\u001b[39;00m:\n\u001b[1;32m   1131\u001b[0m                 \u001b[38;5;28;01mreturn\u001b[39;00m \u001b[38;5;28;01mlambda\u001b[39;00m v: b(converter(v))\n\u001b[0;32m-> 1133\u001b[0m \u001b[38;5;28;01mraise\u001b[39;00m exc\n",
      "File \u001b[0;32m~/miniconda3/envs/mammosunits/lib/python3.12/site-packages/astropy/units/core.py:1116\u001b[0m, in \u001b[0;36mUnitBase.get_converter\u001b[0;34m(self, other, equivalencies)\u001b[0m\n\u001b[1;32m   1114\u001b[0m \u001b[38;5;66;03m# if that doesn't work, maybe we can do it with equivalencies?\u001b[39;00m\n\u001b[1;32m   1115\u001b[0m \u001b[38;5;28;01mtry\u001b[39;00m:\n\u001b[0;32m-> 1116\u001b[0m     \u001b[38;5;28;01mreturn\u001b[39;00m \u001b[38;5;28;43mself\u001b[39;49m\u001b[38;5;241;43m.\u001b[39;49m\u001b[43m_apply_equivalencies\u001b[49m\u001b[43m(\u001b[49m\n\u001b[1;32m   1117\u001b[0m \u001b[43m        \u001b[49m\u001b[38;5;28;43mself\u001b[39;49m\u001b[43m,\u001b[49m\u001b[43m \u001b[49m\u001b[43mother\u001b[49m\u001b[43m,\u001b[49m\u001b[43m \u001b[49m\u001b[38;5;28;43mself\u001b[39;49m\u001b[38;5;241;43m.\u001b[39;49m\u001b[43m_normalize_equivalencies\u001b[49m\u001b[43m(\u001b[49m\u001b[43mequivalencies\u001b[49m\u001b[43m)\u001b[49m\n\u001b[1;32m   1118\u001b[0m \u001b[43m    \u001b[49m\u001b[43m)\u001b[49m\n\u001b[1;32m   1119\u001b[0m \u001b[38;5;28;01mexcept\u001b[39;00m UnitsError \u001b[38;5;28;01mas\u001b[39;00m exc:\n\u001b[1;32m   1120\u001b[0m     \u001b[38;5;66;03m# Last hope: maybe other knows how to do it?\u001b[39;00m\n\u001b[1;32m   1121\u001b[0m     \u001b[38;5;66;03m# We assume the equivalencies have the unit itself as first item.\u001b[39;00m\n\u001b[1;32m   1122\u001b[0m     \u001b[38;5;66;03m# TODO: maybe better for other to have a `_back_converter` method?\u001b[39;00m\n\u001b[1;32m   1123\u001b[0m     \u001b[38;5;28;01mif\u001b[39;00m \u001b[38;5;28mhasattr\u001b[39m(other, \u001b[38;5;124m\"\u001b[39m\u001b[38;5;124mequivalencies\u001b[39m\u001b[38;5;124m\"\u001b[39m):\n",
      "File \u001b[0;32m~/miniconda3/envs/mammosunits/lib/python3.12/site-packages/astropy/units/core.py:1067\u001b[0m, in \u001b[0;36mUnitBase._apply_equivalencies\u001b[0;34m(self, unit, other, equivalencies)\u001b[0m\n\u001b[1;32m   1064\u001b[0m unit_str \u001b[38;5;241m=\u001b[39m get_err_str(unit)\n\u001b[1;32m   1065\u001b[0m other_str \u001b[38;5;241m=\u001b[39m get_err_str(other)\n\u001b[0;32m-> 1067\u001b[0m \u001b[38;5;28;01mraise\u001b[39;00m UnitConversionError(\u001b[38;5;124mf\u001b[39m\u001b[38;5;124m\"\u001b[39m\u001b[38;5;132;01m{\u001b[39;00munit_str\u001b[38;5;132;01m}\u001b[39;00m\u001b[38;5;124m and \u001b[39m\u001b[38;5;132;01m{\u001b[39;00mother_str\u001b[38;5;132;01m}\u001b[39;00m\u001b[38;5;124m are not convertible\u001b[39m\u001b[38;5;124m\"\u001b[39m)\n",
      "\u001b[0;31mUnitConversionError\u001b[0m: 'Oe' (magnetic field strength) and 'G' (magnetic flux density) are not convertible"
     ]
    }
   ],
   "source": [
    "H = 1 * u.Oe\n",
    "H.to(u.G)"
   ]
  },
  {
   "cell_type": "markdown",
   "metadata": {},
   "source": [
    "However, we can introduce the `magnetic_flux_field` equivalency to solve this issue."
   ]
  },
  {
   "cell_type": "code",
   "execution_count": 15,
   "metadata": {},
   "outputs": [
    {
     "data": {
      "text/latex": [
       "$1 \\; \\mathrm{G}$"
      ],
      "text/plain": [
       "<Quantity 1. G>"
      ]
     },
     "execution_count": 15,
     "metadata": {},
     "output_type": "execute_result"
    }
   ],
   "source": [
    "H.to(u.G, equivalencies=u.magnetic_flux_field())"
   ]
  },
  {
   "cell_type": "markdown",
   "metadata": {},
   "source": [
    "By default, it is calculated for free space i.e. a vacuum with $\\mu_r=1$. However, the `magnetic_flux_field` also accepts the relative permeability of the medium as an argument for the conversion."
   ]
  },
  {
   "cell_type": "code",
   "execution_count": 16,
   "metadata": {},
   "outputs": [
    {
     "data": {
      "text/latex": [
       "$0.9 \\; \\mathrm{G}$"
      ],
      "text/plain": [
       "<Quantity 0.9 G>"
      ]
     },
     "execution_count": 16,
     "metadata": {},
     "output_type": "execute_result"
    }
   ],
   "source": [
    "H.to(u.G, equivalencies=u.magnetic_flux_field(mu_r=0.9))"
   ]
  },
  {
   "cell_type": "markdown",
   "metadata": {},
   "source": [
    "If we are doing multiple conversions that it may be worth enabling this equivalency for a set of lines as shown below. This will only turn on the equivalency for things within the `with` block."
   ]
  },
  {
   "cell_type": "code",
   "execution_count": 17,
   "metadata": {},
   "outputs": [
    {
     "data": {
      "text/latex": [
       "$0.9 \\; \\mathrm{G}$"
      ],
      "text/plain": [
       "<Quantity 0.9 G>"
      ]
     },
     "metadata": {},
     "output_type": "display_data"
    }
   ],
   "source": [
    "with u.set_enabled_equivalencies(u.magnetic_flux_field(mu_r=0.9)):\n",
    "    B = H.to(u.G)\n",
    "    display(B)"
   ]
  },
  {
   "cell_type": "markdown",
   "metadata": {},
   "source": [
    "If you wish to turn on the equivalency for all of your document then you can run the following command. We recommed doing this straight after you import mammosunits e.g."
   ]
  },
  {
   "cell_type": "code",
   "execution_count": 18,
   "metadata": {
    "tags": [
     "nbval-ignore-output"
    ]
   },
   "outputs": [
    {
     "data": {
      "text/plain": [
       "<astropy.units.core._UnitContext at 0x7fa607a68500>"
      ]
     },
     "execution_count": 18,
     "metadata": {},
     "output_type": "execute_result"
    }
   ],
   "source": [
    "u.set_enabled_equivalencies(u.magnetic_flux_field())"
   ]
  },
  {
   "cell_type": "code",
   "execution_count": 19,
   "metadata": {},
   "outputs": [
    {
     "data": {
      "text/latex": [
       "$1 \\; \\mathrm{G}$"
      ],
      "text/plain": [
       "<Quantity 1. G>"
      ]
     },
     "execution_count": 19,
     "metadata": {},
     "output_type": "execute_result"
    }
   ],
   "source": [
    "H.to(u.G)"
   ]
  },
  {
   "cell_type": "markdown",
   "metadata": {},
   "source": [
    "A convenient thing about doing this is that we can now convert between SI and CGS as well as using the equivalency."
   ]
  },
  {
   "cell_type": "code",
   "execution_count": 20,
   "metadata": {},
   "outputs": [
    {
     "data": {
      "text/latex": [
       "$1 \\; \\mathrm{Oe}$"
      ],
      "text/plain": [
       "<Quantity 1. Oe>"
      ]
     },
     "metadata": {},
     "output_type": "display_data"
    },
    {
     "data": {
      "text/latex": [
       "$1 \\; \\mathrm{G}$"
      ],
      "text/plain": [
       "<Quantity 1. G>"
      ]
     },
     "metadata": {},
     "output_type": "display_data"
    },
    {
     "data": {
      "text/latex": [
       "$0.0001 \\; \\mathrm{T}$"
      ],
      "text/plain": [
       "<Quantity 0.0001 T>"
      ]
     },
     "metadata": {},
     "output_type": "display_data"
    },
    {
     "data": {
      "text/latex": [
       "$79.577472 \\; \\mathrm{\\frac{A}{m}}$"
      ],
      "text/plain": [
       "<Quantity 79.57747155 A / m>"
      ]
     },
     "metadata": {},
     "output_type": "display_data"
    }
   ],
   "source": [
    "display(H)\n",
    "display(H.to(u.G))\n",
    "display(H.to(u.T))\n",
    "display(H.to(u.A / u.m))"
   ]
  },
  {
   "cell_type": "markdown",
   "metadata": {},
   "source": [
    "# A comment on emu"
   ]
  },
  {
   "cell_type": "markdown",
   "metadata": {},
   "source": [
    "emu is not a unit in the conventional manner and can have many different meanings depending on context.\n",
    "\n",
    "Within magnetism `emu` can represent the magnetic moment\n",
    "$$\n",
    "1\\, \\text{emu} = 1\\, \\frac{\\text{erg}}{\\text{G}}.\n",
    "$$\n",
    "However, it can sometimes have dimensions \n",
    "$$\n",
    "1\\, \\text{emu} = 1\\, \\text{cm}^3,\n",
    "$$\n",
    "such as representing emu in magnetic susceptibility if defined as (emu cm $^{-3}$)"
   ]
  }
 ],
 "metadata": {
  "kernelspec": {
   "display_name": "mammosunits",
   "language": "python",
   "name": "python3"
  },
  "language_info": {
   "codemirror_mode": {
    "name": "ipython",
    "version": 3
   },
   "file_extension": ".py",
   "mimetype": "text/x-python",
   "name": "python",
   "nbconvert_exporter": "python",
   "pygments_lexer": "ipython3",
   "version": "3.12.8"
  }
 },
 "nbformat": 4,
 "nbformat_minor": 2
}
